{
 "cells": [
  {
   "cell_type": "code",
   "execution_count": null,
   "metadata": {},
   "outputs": [],
   "source": [
    "import time\n",
    "from Arm_Lib import Arm_Device\n",
    "\n",
    "Arm = Arm_Device()\n",
    "time.sleep(0.1)"
   ]
  },
  {
   "cell_type": "code",
   "execution_count": null,
   "metadata": {},
   "outputs": [],
   "source": [
    "def main():\n",
    "    while True:\n",
    "        for i in range(6):\n",
    "            aa = Arm.Arm_serial_servo_read(i+1)\n",
    "            print(aa)\n",
    "            time.sleep(0.01)\n",
    "        time.sleep(0.5)\n",
    "        print(\" END OF LINE! \")\n",
    "try :\n",
    "    main()\n",
    "except KeyboardInterrupt:\n",
    "    print(\" Program closed! \")\n",
    "    pass"
   ]
  },
  {
   "cell_type": "code",
   "execution_count": null,
   "metadata": {},
   "outputs": [],
   "source": [
    "id = 6\n",
    "angle = 150\n",
    "Arm.Arm_serial_servo_write(id, angle, 500)\n",
    "time.sleep(1)\n",
    "aa = Arm.Arm_serial_servo_read(id)\n",
    "print(aa)\n",
    "time.sleep(.5)"
   ]
  }
 ],
 "metadata": {
  "kernelspec": {
   "display_name": "Python 3",
   "language": "python",
   "name": "python3"
  },
  "language_info": {
   "codemirror_mode": {
    "name": "ipython",
    "version": 3
   },
   "file_extension": ".py",
   "mimetype": "text/x-python",
   "name": "python",
   "nbconvert_exporter": "python",
   "pygments_lexer": "ipython3",
   "version": "3.6.9"
  }
 },
 "nbformat": 4,
 "nbformat_minor": 4
}
