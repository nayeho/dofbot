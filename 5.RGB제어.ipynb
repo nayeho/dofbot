{
 "cells": [
  {
   "cell_type": "markdown",
   "metadata": {},
   "source": [
    "循环让机械臂扩展板上的RGB灯亮红色、绿色、蓝色。\n",
    "\n",
    "Cycle to make the RGB light on the manipulator expansion board light red, green and blue.\n",
    "\n"
   ]
  },
  {
   "cell_type": "code",
   "execution_count": 2,
   "metadata": {},
   "outputs": [
    {
     "name": "stdout",
     "output_type": "stream",
     "text": [
      " END OF LINE! \n",
      " Program closed! \n"
     ]
    }
   ],
   "source": [
    "import time\n",
    "from Arm_Lib import Arm_Device\n",
    "\n",
    "Arm = Arm_Device()\n",
    "time.sleep(0.1)\n",
    "\n",
    "def main():\n",
    "    \n",
    "    while True:\n",
    "        Arm.Arm_RGB_set(50, 0, 0) #RGB red\n",
    "        time.sleep(0.5)\n",
    "        Arm.Arm_RGB_set(0, 50, 0) #RGB green\n",
    "        time.sleep(0.5)\n",
    "        Arm.Arm_RGB_set(0, 0, 50) #RGB blue\n",
    "        time.sleep(0.5)\n",
    "\n",
    "        print(\" END OF LINE! \")\n",
    "\n",
    "try :\n",
    "    main()\n",
    "except KeyboardInterrupt:\n",
    "    del Arm\n",
    "    print(\" Program closed! \")\n",
    "    pass\n"
   ]
  },
  {
   "cell_type": "code",
   "execution_count": null,
   "metadata": {},
   "outputs": [],
   "source": []
  }
 ],
 "metadata": {
  "kernelspec": {
   "display_name": "Python 3",
   "language": "python",
   "name": "python3"
  },
  "language_info": {
   "codemirror_mode": {
    "name": "ipython",
    "version": 3
   },
   "file_extension": ".py",
   "mimetype": "text/x-python",
   "name": "python",
   "nbconvert_exporter": "python",
   "pygments_lexer": "ipython3",
   "version": "3.6.9"
  }
 },
 "nbformat": 4,
 "nbformat_minor": 4
}
