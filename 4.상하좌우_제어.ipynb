{
 "cells": [
  {
   "cell_type": "code",
   "execution_count": 1,
   "metadata": {},
   "outputs": [],
   "source": [
    "import time\n",
    "from Arm_Lib import Arm_Device\n",
    "\n",
    "Arm = Arm_Device()\n",
    "time.sleep(0.1)"
   ]
  },
  {
   "cell_type": "code",
   "execution_count": null,
   "metadata": {},
   "outputs": [],
   "source": [
    "def main():\n",
    "    Arm.Arm_serial_servo_write6(90, 90, 90, 90, 90, 90, 500)\n",
    "    time.sleep(1)\n",
    "\n",
    "    while True:\n",
    "\n",
    "        # Control the up and down movement of servos No. 3 and No. 4\n",
    "        Arm.Arm_serial_servo_write(3, 0, 1000)\n",
    "        time.sleep(.001)\n",
    "\n",
    "        Arm.Arm_serial_servo_write(4, 180, 1000)\n",
    "        time.sleep(1)\n",
    "\n",
    "        # Control the left and right movement of the No. 1 servo\n",
    "\n",
    "        Arm.Arm_serial_servo_write(1, 180, 500)\n",
    "\n",
    "        time.sleep(.5)\n",
    "\n",
    "        Arm.Arm_serial_servo_write(1, 0, 1000)\n",
    "\n",
    "        time.sleep(1)\n",
    "\n",
    "        # Control the servo to return to its initial position\n",
    "\n",
    "        Arm.Arm_serial_servo_write6(90, 90, 90, 90, 90, 90, 1000)\n",
    "\n",
    "        time.sleep(1.5)\n",
    "\n",
    "try :\n",
    "\n",
    "    main()\n",
    "\n",
    "except KeyboardInterrupt:\n",
    "\n",
    "    print(\" Program closed! \")\n",
    "\n",
    "    pass"
   ]
  }
 ],
 "metadata": {
  "kernelspec": {
   "display_name": "Python 3",
   "language": "python",
   "name": "python3"
  },
  "language_info": {
   "codemirror_mode": {
    "name": "ipython",
    "version": 3
   },
   "file_extension": ".py",
   "mimetype": "text/x-python",
   "name": "python",
   "nbconvert_exporter": "python",
   "pygments_lexer": "ipython3",
   "version": "3.6.9"
  }
 },
 "nbformat": 4,
 "nbformat_minor": 4
}
